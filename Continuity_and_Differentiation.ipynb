{
  "nbformat": 4,
  "nbformat_minor": 0,
  "metadata": {
    "colab": {
      "name": "Continuity_and_Differentiation.ipynb",
      "provenance": [],
      "authorship_tag": "ABX9TyO/w7+Ea/cHVhra1dPLZqd2",
      "include_colab_link": true
    },
    "kernelspec": {
      "name": "python3",
      "display_name": "Python 3"
    },
    "language_info": {
      "name": "python"
    }
  },
  "cells": [
    {
      "cell_type": "markdown",
      "metadata": {
        "id": "view-in-github",
        "colab_type": "text"
      },
      "source": [
        "<a href=\"https://colab.research.google.com/github/aaronyu888/mat-494-notebooks/blob/main/Continuity_and_Differentiation.ipynb\" target=\"_parent\"><img src=\"https://colab.research.google.com/assets/colab-badge.svg\" alt=\"Open In Colab\"/></a>"
      ]
    },
    {
      "cell_type": "markdown",
      "metadata": {
        "id": "08hLtl-4PXmj"
      },
      "source": [
        "#3.2 Continuity and Differentiation\n",
        "\n",
        "\n",
        "---\n",
        "\n",
        "\n",
        "\n"
      ]
    },
    {
      "cell_type": "markdown",
      "metadata": {
        "id": "HXw0RpwU-7fE"
      },
      "source": [
        "#3.2.1 Limits and Continuity\n",
        "**Rolle's Theorem**: Let $f:[a,b]\\rightarrow\\mathbb{R}$ be a continuous function and assume that its derivative exists on $(a,b)$. If $f(a) = f(b)$, then there is $a<c<b$ such that $f'(c) = 0$.\n",
        "\n",
        "**Mean Value Theorem**: Let $f:[a,b]\\rightarrow\\mathbb{R}$ be a continuous function and assume that its derivative exists on $(a,b)$. Then there is $a<c<b$ such that $f(b) = f(a) + (b-a)f'(c)$ or put differently $\\frac{f(b) - f(a)}{b - a} = f'(c)$.\n"
      ]
    },
    {
      "cell_type": "markdown",
      "metadata": {
        "id": "rUYdhMunHUHS"
      },
      "source": [
        "# 3.2.2 General Case\n",
        "\n",
        "**Partial Derivative**: Let $f:D\\rightarrow\\mathbb{R}$ where $D\\subseteq\\mathbb{R}^d$ and let $x_0\\in D$ be an interior point of $D$. The partial derivative of $f$ at $x_0$ with respect to $x_i$ is $\\frac{\\partial f(x_0)}{\\partial x_i} = \\lim_{h\\to 0} \\frac{f(x_0 + he_i) - f(x_0)}{h}$.\n",
        "\n",
        "**Jacobian**: Let $f = f(f_1,...,f_m):D\\rightarrow\\mathbb{R}^m$ where $D\\subseteq\\mathbb{R}^d$ and let $x_0\\in D$ be an interior point of $D$ where $\\frac{\\partial f_j(x_0)}{\\partial x_i}$ exists for all $i,j$. The Jacobian of $f$ at $x_0$ is the $d\\times m$ matrix $J_f(x_0) = \\begin{pmatrix} \\frac{\\partial f_1(x_0)}{\\partial x_1} & \\dots & \\frac{\\partial f_1(x_0)}{\\partial x_d} \\\\ \\vdots & \\ddots & \\vdots \\\\ \\frac{\\partial f_m(x_0)}{\\partial x_1} & \\dots & \\frac{\\partial f_m(x_0)}{\\partial x_d} \\end{pmatrix}$. For a real-valued function $f:D\\rightarrow\\mathbb{R}$, the Jacobian reducted to the row vector $J_f(x_0) = \\nabla f(x_0)^T$, where the vector $\\nabla f(x_0) = (\\frac{\\partial f(x_0)}{\\partial x_1},\\dots,\\frac{\\partial f(x_0)}{\\partial x_d})^T$ is the gradient of $f$ at $x_0$.\n",
        "\n",
        "**Gradient** of the affine function $f(x) = q^T(x) + r$ is $\\nabla f(x) = q$.\n",
        "**Gradient** of the quadratic function $f(x) = x^TPx + q^Tx + r$, where $x = (x_1,...,x_d)^T, q = (q_1,...,q_d)^T\\in\\mathbb{R}^d$ and $P\\in\\mathbb{R}^{d\\times d}$. The gradient of $f$ is $\\nabla f(x) = [P + P^T]x + q$.\n",
        "\n",
        "**Directional Derivative**: Let $f:D\\to\\mathbb{R}$ where $D\\subseteq\\mathbb{R}^d$, let $x_0\\in D$ be an interior point of $D$ and let $v\\in\\mathbb{R}^d$ be a unit vector. The directional derivative of $f$ at $x_0$ in the direction $v$ is $\\frac{\\partial f(x_0)}{\\partial v} = \\lim_{h\\to 0}\\frac{f(x_0+h_v) - f(x_0)}{h}$, provided the limit exists.\n",
        "\n",
        "**Hessian**: the Jacobian of the gradient $\\nabla f$ is called the Hessian and is denoted by $H_f(x_0) = \\begin{pmatrix} \\frac{\\partial^2 f(x_0)}{\\partial x_1^2} & \\dots & \\frac{\\partial^2 f(x_0)}{\\partial x_d \\partial x_1} \\\\ \\vdots & \\ddots & \\vdots \\\\ \\frac{\\partial^2 f(x_0)}{\\partial x_1 \\partial x_d} & \\dots & \\frac{\\partial^2 f(x_0)}{\\partial x_d^2} \\end{pmatrix}$."
      ]
    },
    {
      "cell_type": "markdown",
      "metadata": {
        "id": "T-XxCGKBMMn7"
      },
      "source": [
        "#3.2.3 Taylor's Theorem\n",
        "**Taylor's Theorem**: Let $f:D\\to\\mathbb{R}$ where $D\\subseteq\\mathbb{R}$. Suppose $f$ has a $m$ time continuous derivative on $[a,b]$. Then $f(b) = f(a) + (b-a)f'(a) + \\frac{1}{2}(b-a)^2f''(a)+ ... + \\frac{(b-a)^{m-1}}{(m-1)!}f^{m-1}(a)+R_m$, where $R_m = \\frac{(b-a)^m}{(m)!}f^{(m)}(a+\\theta (b-a))$ for some $0 < \\theta < 1$. In particular, for $m = 2$, we have $f(b) = f(a) + (b-a)f'(a) + \\frac{1}{2}(b-a)^2f''(\\xi)$ for some $a < \\xi < b$.\n",
        "\n",
        "**Multivariate Mean Value Theorem**: Let $f:D\\to\\mathbb{R}$ where $D\\subseteq\\mathbb{R}^d$. Let $x_0\\in D$ and $\\delta > 0$ be such that $B_\\delta(x_0)\\subseteq D$. If $f$ is continuously differentiable on $B_\\delta(x_0)$, then for any $x\\in B_\\delta(x_0)$, $f(x) = f(x_0) + \\nabla f(x_0 + \\xi p)^Tp$ for some $\\xi\\in (0,1)$, where $p = x - x_0$.\n",
        "\n",
        "**Multivariate Taylor Theorem**: Let $f:D\\to\\mathbb{R}$ where $D\\subseteq\\mathbb{R}^d$. Let $x_0\\in D$ and $\\xi > 0$ be such that $B_\\delta(x_0)\\subseteq D$. If $f$ is three times continuously differentiable on $B_\\delta(x_0)$, then for any $x\\in B_\\delta(x_0)$, $f(x) = f(x_0) + \\nabla f(x_0)^Tp + \\frac{1}{2}p^TH_f(x_0)p + O(|p||^3)$, where $p = x - x_0$."
      ]
    }
  ]
}