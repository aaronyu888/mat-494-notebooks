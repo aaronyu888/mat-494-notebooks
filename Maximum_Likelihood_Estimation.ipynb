{
  "nbformat": 4,
  "nbformat_minor": 0,
  "metadata": {
    "colab": {
      "name": "Untitled0.ipynb",
      "provenance": [],
      "collapsed_sections": [],
      "authorship_tag": "ABX9TyMf4WmMJMVVXADunnL8CAnv",
      "include_colab_link": true
    },
    "kernelspec": {
      "name": "python3",
      "display_name": "Python 3"
    },
    "language_info": {
      "name": "python"
    }
  },
  "cells": [
    {
      "cell_type": "markdown",
      "metadata": {
        "id": "view-in-github",
        "colab_type": "text"
      },
      "source": [
        "<a href=\"https://colab.research.google.com/github/aaronyu888/mat-494-notebooks/blob/main/Maximum_Likelihood_Estimation.ipynb\" target=\"_parent\"><img src=\"https://colab.research.google.com/assets/colab-badge.svg\" alt=\"Open In Colab\"/></a>"
      ]
    },
    {
      "cell_type": "markdown",
      "metadata": {
        "id": "bgwAvrbfgeQT"
      },
      "source": [
        "#2.4 Maximum Likelihood Estimation\n",
        "Maximum likelihood estimation is an effective approach of estimating the parameters of a probability distribution through maximizing a likelihood function. The point in the parameter space that maximizes the likelihood function is called the maximum likelihood estimate. \n",
        "\n",
        "Let $X_1, X_2,...,X_n$ have joint pmf or pdf $f(x_1,x_2,...,x_n;\\theta_1,...,\\theta_m)$ where the parameters $\\theta_1,...,\\theta_m$ have unknown values. When $x_1,x_2,...,x_n$ are the observed sample values then $f(x_1,x_2,...,x_n;\\theta_1,...,\\theta_m)$ is a function of $\\theta_1,...,\\theta_m$ and is called the likelihood function, which we want to maximize."
      ]
    },
    {
      "cell_type": "code",
      "metadata": {
        "id": "EAdUAiTwiyFA"
      },
      "source": [
        "import numpy as np\n",
        "import pandas as pd\n",
        "from matplotlib import pyplot as plt\n",
        "import seaborn as sns\n",
        "from scipy.optimize import minimize\n",
        "import scipy.stats as stats\n",
        "import pymc3 as pm3\n",
        "# import numdifftools as ndt\n",
        "import statsmodels.api as sm\n",
        "from statsmodels.base.model import GenericLikelihoodModel\n",
        "\n",
        "%matplotlib inline"
      ],
      "execution_count": 7,
      "outputs": []
    },
    {
      "cell_type": "code",
      "metadata": {
        "colab": {
          "base_uri": "https://localhost:8080/",
          "height": 333
        },
        "id": "mMOu1Mj-i_hs",
        "outputId": "1681fcc3-cccd-4af2-9a25-3fdf8c210dba"
      },
      "source": [
        "# normally distributed randomized data\n",
        "n = 100\n",
        "x = np.linspace(0, 20, n)\n",
        "e = np.random.normal(loc = 0.0, scale = 5.0, size = n)\n",
        "y = 3*x + e\n",
        "\n",
        "df = pd.DataFrame({'y':y, 'x':x})\n",
        "df['constant'] = 1\n",
        "\n",
        "sns.regplot(df.x, df.y)\n",
        "plt.xlabel('x')\n",
        "plt.ylabel('y')\n",
        "plt.show()"
      ],
      "execution_count": 24,
      "outputs": [
        {
          "output_type": "stream",
          "name": "stderr",
          "text": [
            "/usr/local/lib/python3.7/dist-packages/seaborn/_decorators.py:43: FutureWarning: Pass the following variables as keyword args: x, y. From version 0.12, the only valid positional argument will be `data`, and passing other arguments without an explicit keyword will result in an error or misinterpretation.\n",
            "  FutureWarning\n"
          ]
        },
        {
          "output_type": "display_data",
          "data": {
            "image/png": "[encoded data removed]",
            "text/plain": [
              "<Figure size 432x288 with 1 Axes>"
            ]
          },
          "metadata": {
            "needs_background": "light"
          }
        }
      ]
    },
    {
      "cell_type": "code",
      "metadata": {
        "colab": {
          "base_uri": "https://localhost:8080/",
          "height": 444
        },
        "id": "ULQRJGtOkJ4J",
        "outputId": "8c883efb-5271-436e-b7c4-eb5048cec154"
      },
      "source": [
        "# OLS gives us a benchmark to compare MLE to\n",
        "X = df[['constant', 'x']]\n",
        "sm.OLS(y, X).fit().summary()"
      ],
      "execution_count": 25,
      "outputs": [
        {
          "output_type": "execute_result",
          "data": {
            "text/html": [
              "<table class=\"simpletable\">\n",
              "<caption>OLS Regression Results</caption>\n",
              "<tr>\n",
              "  <th>Dep. Variable:</th>            <td>y</td>        <th>  R-squared:         </th> <td>   0.935</td>\n",
              "</tr>\n",
              "<tr>\n",
              "  <th>Model:</th>                   <td>OLS</td>       <th>  Adj. R-squared:    </th> <td>   0.934</td>\n",
              "</tr>\n",
              "<tr>\n",
              "  <th>Method:</th>             <td>Least Squares</td>  <th>  F-statistic:       </th> <td>   1404.</td>\n",
              "</tr>\n",
              "<tr>\n",
              "  <th>Date:</th>             <td>Mon, 27 Sep 2021</td> <th>  Prob (F-statistic):</th> <td>6.89e-60</td>\n",
              "</tr>\n",
              "<tr>\n",
              "  <th>Time:</th>                 <td>00:15:20</td>     <th>  Log-Likelihood:    </th> <td> -293.19</td>\n",
              "</tr>\n",
              "<tr>\n",
              "  <th>No. Observations:</th>      <td>   100</td>      <th>  AIC:               </th> <td>   590.4</td>\n",
              "</tr>\n",
              "<tr>\n",
              "  <th>Df Residuals:</th>          <td>    98</td>      <th>  BIC:               </th> <td>   595.6</td>\n",
              "</tr>\n",
              "<tr>\n",
              "  <th>Df Model:</th>              <td>     1</td>      <th>                     </th>     <td> </td>   \n",
              "</tr>\n",
              "<tr>\n",
              "  <th>Covariance Type:</th>      <td>nonrobust</td>    <th>                     </th>     <td> </td>   \n",
              "</tr>\n",
              "</table>\n",
              "<table class=\"simpletable\">\n",
              "<tr>\n",
              "      <td></td>        <th>coef</th>     <th>std err</th>      <th>t</th>      <th>P>|t|</th>  <th>[0.025</th>    <th>0.975]</th>  \n",
              "</tr>\n",
              "<tr>\n",
              "  <th>constant</th> <td>    0.8772</td> <td>    0.910</td> <td>    0.964</td> <td> 0.338</td> <td>   -0.930</td> <td>    2.684</td>\n",
              "</tr>\n",
              "<tr>\n",
              "  <th>x</th>        <td>    2.9465</td> <td>    0.079</td> <td>   37.465</td> <td> 0.000</td> <td>    2.790</td> <td>    3.103</td>\n",
              "</tr>\n",
              "</table>\n",
              "<table class=\"simpletable\">\n",
              "<tr>\n",
              "  <th>Omnibus:</th>       <td> 0.580</td> <th>  Durbin-Watson:     </th> <td>   1.262</td>\n",
              "</tr>\n",
              "<tr>\n",
              "  <th>Prob(Omnibus):</th> <td> 0.748</td> <th>  Jarque-Bera (JB):  </th> <td>   0.442</td>\n",
              "</tr>\n",
              "<tr>\n",
              "  <th>Skew:</th>          <td> 0.163</td> <th>  Prob(JB):          </th> <td>   0.802</td>\n",
              "</tr>\n",
              "<tr>\n",
              "  <th>Kurtosis:</th>      <td> 2.987</td> <th>  Cond. No.          </th> <td>    23.1</td>\n",
              "</tr>\n",
              "</table><br/><br/>Warnings:<br/>[1] Standard Errors assume that the covariance matrix of the errors is correctly specified."
            ],
            "text/plain": [
              "<class 'statsmodels.iolib.summary.Summary'>\n",
              "\"\"\"\n",
              "                            OLS Regression Results                            \n",
              "==============================================================================\n",
              "Dep. Variable:                      y   R-squared:                       0.935\n",
              "Model:                            OLS   Adj. R-squared:                  0.934\n",
              "Method:                 Least Squares   F-statistic:                     1404.\n",
              "Date:                Mon, 27 Sep 2021   Prob (F-statistic):           6.89e-60\n",
              "Time:                        00:15:20   Log-Likelihood:                -293.19\n",
              "No. Observations:                 100   AIC:                             590.4\n",
              "Df Residuals:                      98   BIC:                             595.6\n",
              "Df Model:                           1                                         \n",
              "Covariance Type:            nonrobust                                         \n",
              "==============================================================================\n",
              "                 coef    std err          t      P>|t|      [0.025      0.975]\n",
              "------------------------------------------------------------------------------\n",
              "constant       0.8772      0.910      0.964      0.338      -0.930       2.684\n",
              "x              2.9465      0.079     37.465      0.000       2.790       3.103\n",
              "==============================================================================\n",
              "Omnibus:                        0.580   Durbin-Watson:                   1.262\n",
              "Prob(Omnibus):                  0.748   Jarque-Bera (JB):                0.442\n",
              "Skew:                           0.163   Prob(JB):                        0.802\n",
              "Kurtosis:                       2.987   Cond. No.                         23.1\n",
              "==============================================================================\n",
              "\n",
              "Warnings:\n",
              "[1] Standard Errors assume that the covariance matrix of the errors is correctly specified.\n",
              "\"\"\""
            ]
          },
          "metadata": {},
          "execution_count": 25
        }
      ]
    },
    {
      "cell_type": "code",
      "metadata": {
        "id": "vnV2BoTylGeW"
      },
      "source": [
        "# likelihood function\n",
        "def MLERegression(params):\n",
        "  intercept, beta, sd = params[0], params[1], params[2] # these are guesses at parameters\n",
        "  yhat = intercept + beta*x # predicting ground truth function\n",
        "  negLL = -np.sum(stats.norm.logpdf(y, loc = yhat, scale = sd))\n",
        "  return negLL"
      ],
      "execution_count": 26,
      "outputs": []
    },
    {
      "cell_type": "code",
      "metadata": {
        "colab": {
          "base_uri": "https://localhost:8080/",
          "height": 179
        },
        "id": "1LRIOrAklpnD",
        "outputId": "2ff45f46-9596-4995-c70a-d36d3f301e2a"
      },
      "source": [
        "guess = np.array([3, 3, 3])\n",
        "results = minimize(MLERegression, guess, method = 'Nelder-Mead', options={'disp' : True})\n",
        "results_df = pd.DataFrame({'coef':results['x']})\n",
        "results_df.index = ['constant', 'x', 'sigma']\n",
        "results_df.head(2)"
      ],
      "execution_count": 27,
      "outputs": [
        {
          "output_type": "stream",
          "name": "stdout",
          "text": [
            "Optimization terminated successfully.\n",
            "         Current function value: 293.192617\n",
            "         Iterations: 81\n",
            "         Function evaluations: 146\n"
          ]
        },
        {
          "output_type": "execute_result",
          "data": {
            "text/html": [
              "<div>\n",
              "<style scoped>\n",
              "    .dataframe tbody tr th:only-of-type {\n",
              "        vertical-align: middle;\n",
              "    }\n",
              "\n",
              "    .dataframe tbody tr th {\n",
              "        vertical-align: top;\n",
              "    }\n",
              "\n",
              "    .dataframe thead th {\n",
              "        text-align: right;\n",
              "    }\n",
              "</style>\n",
              "<table border=\"1\" class=\"dataframe\">\n",
              "  <thead>\n",
              "    <tr style=\"text-align: right;\">\n",
              "      <th></th>\n",
              "      <th>coef</th>\n",
              "    </tr>\n",
              "  </thead>\n",
              "  <tbody>\n",
              "    <tr>\n",
              "      <th>constant</th>\n",
              "      <td>0.877168</td>\n",
              "    </tr>\n",
              "    <tr>\n",
              "      <th>x</th>\n",
              "      <td>2.946555</td>\n",
              "    </tr>\n",
              "  </tbody>\n",
              "</table>\n",
              "</div>"
            ],
            "text/plain": [
              "              coef\n",
              "constant  0.877168\n",
              "x         2.946555"
            ]
          },
          "metadata": {},
          "execution_count": 27
        }
      ]
    },
    {
      "cell_type": "markdown",
      "metadata": {
        "id": "JBFwZHLZmUgU"
      },
      "source": [
        "Our likelihood function gives pretty similar results to OLS."
      ]
    }
  ]
}