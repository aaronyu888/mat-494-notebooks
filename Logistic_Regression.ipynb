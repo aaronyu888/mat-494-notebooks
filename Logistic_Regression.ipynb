{
  "nbformat": 4,
  "nbformat_minor": 0,
  "metadata": {
    "colab": {
      "name": "Logistic_Regression.ipynb",
      "provenance": [],
      "mount_file_id": "167tWGrtE0WjbY1GDHRNxc2eJyyb3Ygid",
      "authorship_tag": "ABX9TyMBHU9KnRGziQO0ay6c6dad",
      "include_colab_link": true
    },
    "kernelspec": {
      "name": "python3",
      "display_name": "Python 3"
    },
    "language_info": {
      "name": "python"
    }
  },
  "cells": [
    {
      "cell_type": "markdown",
      "metadata": {
        "id": "view-in-github",
        "colab_type": "text"
      },
      "source": [
        "<a href=\"https://colab.research.google.com/github/aaronyu888/mat-494-notebooks/blob/main/Logistic_Regression.ipynb\" target=\"_parent\"><img src=\"https://colab.research.google.com/assets/colab-badge.svg\" alt=\"Open In Colab\"/></a>"
      ]
    },
    {
      "cell_type": "markdown",
      "metadata": {
        "id": "_DKQoOcOUX0N"
      },
      "source": [
        "# Logistic Regression\n",
        "\n",
        "\n",
        "---\n",
        "\n"
      ]
    },
    {
      "cell_type": "code",
      "metadata": {
        "id": "mdJkrz3ZUat4"
      },
      "source": [
        "import numpy as np\n",
        "import matplotlib.pyplot as plt\n",
        "import pandas as pd\n",
        "import scipy.optimize"
      ],
      "execution_count": 1,
      "outputs": []
    },
    {
      "cell_type": "code",
      "metadata": {
        "colab": {
          "base_uri": "https://localhost:8080/",
          "height": 265
        },
        "id": "Fu38A5KFas9R",
        "outputId": "0eeda029-3939-44a0-815f-603869e20416"
      },
      "source": [
        "# data is from marks of 100 students for two exams and admittance\n",
        "data = pd.read_csv(\"/content/drive/MyDrive/marks.txt\", header = None);\n",
        "\n",
        "# marks for both exams\n",
        "X = data.iloc[:, :-1]\n",
        "\n",
        "# admitted boolean values\n",
        "y = data.iloc[:, -1]\n",
        "admitted = data.loc[y == 1]\n",
        "not_admitted = data.loc[y == 0]\n",
        "\n",
        "plt.scatter(admitted.iloc[:, 0], admitted.iloc[:, 1], label = 'Admitted')\n",
        "plt.scatter(not_admitted.iloc[:, 0], not_admitted.iloc[:, 1], label = 'Not Admitted')\n",
        "plt.legend()\n",
        "plt.show()"
      ],
      "execution_count": 2,
      "outputs": [
        {
          "output_type": "display_data",
          "data": {
            "image/png": "[encoded data removed]",
            "text/plain": [
              "<Figure size 432x288 with 1 Axes>"
            ]
          },
          "metadata": {
            "needs_background": "light"
          }
        }
      ]
    },
    {
      "cell_type": "code",
      "metadata": {
        "id": "hW3CClAZc3o0"
      },
      "source": [
        "# sigmoid function\n",
        "def sigmoid(x) :\n",
        "  return 1 / (1 + np.exp(-x))\n",
        "\n",
        "def net_input(theta, x):\n",
        "  return np.dot(x, theta)\n",
        "\n",
        "# probability of the output to be 1\n",
        "def probability(theta, x):\n",
        "  return sigmoid(net_input(theta, x))\n",
        "\n",
        "# cost function\n",
        "def cost_function(theta, x, y):\n",
        "  m = x.shape[0]\n",
        "  total_cost = -(1 / m) * np.sum(y * np.log(probability(theta, x)) + (1 - y) * np.log(1 - probability(theta, x)))\n",
        "  return total_cost\n",
        "\n",
        "# gradient \n",
        "def gradient(theta, x, y):\n",
        "  m = x.shape[0]\n",
        "  return (1 / m) * np.dot(x.T, sigmoid(net_input(theta, x)) - y)\n",
        "\n",
        "def fit(x, y, theta):\n",
        "  opt_weights = scipy.optimize.fmin_tnc(func = cost_function, x0 = theta, fprime = gradient, args = (x, y.flatten()))\n",
        "  return opt_weights[0]"
      ],
      "execution_count": 3,
      "outputs": []
    },
    {
      "cell_type": "code",
      "metadata": {
        "colab": {
          "base_uri": "https://localhost:8080/"
        },
        "id": "aXg4AuEyj2aZ",
        "outputId": "5d30f9a5-7928-4225-f0d0-fc5f6f647900"
      },
      "source": [
        "X = np.c_[np.ones((X.shape[0], 1)), X]\n",
        "y = y[:, np.newaxis]\n",
        "theta = np.zeros((X.shape[1], 1))\n",
        "parameters = fit(X, y, theta)\n",
        "parameters"
      ],
      "execution_count": 4,
      "outputs": [
        {
          "output_type": "stream",
          "name": "stderr",
          "text": [
            "/usr/local/lib/python3.7/dist-packages/ipykernel_launcher.py:2: FutureWarning: Support for multi-dimensional indexing (e.g. `obj[:, None]`) is deprecated and will be removed in a future version.  Convert to a numpy array before indexing instead.\n",
            "  \n"
          ]
        },
        {
          "output_type": "execute_result",
          "data": {
            "text/plain": [
              "array([-25.16131865,   0.20623159,   0.20147149])"
            ]
          },
          "metadata": {},
          "execution_count": 4
        }
      ]
    },
    {
      "cell_type": "code",
      "metadata": {
        "colab": {
          "base_uri": "https://localhost:8080/",
          "height": 279
        },
        "id": "xiotKbhEhjsm",
        "outputId": "76ddef27-f5fb-4ecd-b63f-b492d925c5f6"
      },
      "source": [
        "x_values = [np.min(X[:, 1] - 5), np.max(X[:, 2] + 5)]\n",
        "y_values = - (parameters[0] + np.dot(parameters[1], x_values)) / parameters[2]\n",
        "\n",
        "plt.scatter(admitted.iloc[:, 0], admitted.iloc[:, 1], label = 'Admitted')\n",
        "plt.scatter(not_admitted.iloc[:, 0], not_admitted.iloc[:, 1], label = 'Not Admitted')\n",
        "plt.plot(x_values, y_values, label='Decision Boundary')\n",
        "plt.xlabel('Marks in 1st Exam')\n",
        "plt.ylabel('Marks in 2nd Exam')\n",
        "plt.legend()\n",
        "plt.show()"
      ],
      "execution_count": 5,
      "outputs": [
        {
          "output_type": "display_data",
          "data": {
            "image/png": "[encoded data removed]",
            "text/plain": [
              "<Figure size 432x288 with 1 Axes>"
            ]
          },
          "metadata": {
            "needs_background": "light"
          }
        }
      ]
    },
    {
      "cell_type": "code",
      "metadata": {
        "id": "t1EoQgfmlH9M"
      },
      "source": [
        "def predict(x):\n",
        "  theta = parameters[:, np.newaxis]\n",
        "  return probability(theta, x)\n",
        "\n",
        "def accuracy(x, actual_classes, threshold = 0.5):\n",
        "  predicted_classes = (predict(x) >= threshold).astype(int)\n",
        "  predicted_classes = predicted_classes.flatten()\n",
        "  accuracy = np.mean(predicted_classes == actual_classes)\n",
        "  return accuracy * 100"
      ],
      "execution_count": 6,
      "outputs": []
    },
    {
      "cell_type": "code",
      "metadata": {
        "colab": {
          "base_uri": "https://localhost:8080/"
        },
        "id": "cxkexcOblfu6",
        "outputId": "785258eb-f957-472f-ce7c-a4d3a8df80a7"
      },
      "source": [
        "accuracy(X, y.flatten())"
      ],
      "execution_count": 7,
      "outputs": [
        {
          "output_type": "execute_result",
          "data": {
            "text/plain": [
              "89.0"
            ]
          },
          "metadata": {},
          "execution_count": 7
        }
      ]
    }
  ]
}